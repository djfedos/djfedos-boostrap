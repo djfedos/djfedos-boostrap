{
 "cells": [
  {
   "cell_type": "code",
   "execution_count": 13,
   "id": "b8bbbd3f",
   "metadata": {},
   "outputs": [],
   "source": [
    "def anagram_validation(word1:str, word2:str):\n",
    "    if len(word1) != len(word2):\n",
    "        print(f'Word length is different: {word1} has {len(word1)} letters and {word2} has {len(word2)} letters')\n",
    "        return False\n",
    "    word1set = set(word1)\n",
    "    word2set = set(word2)\n",
    "    if len(word1set) != len(word2set):\n",
    "        print('Words have different amount of repeating letters')\n",
    "        return False\n",
    "    if word1set != word2set:\n",
    "        print('Words have difference at least in one letter or more')\n",
    "        return False\n",
    "    for letter in word1set:\n",
    "        if word1.count(letter) != word2.count(letter):\n",
    "            print(f'Words have different count of letter \"{letter}\" in them')\n",
    "            return False\n",
    "    print(\"Given words are anagrams\")\n",
    "    return True    "
   ]
  },
  {
   "cell_type": "code",
   "execution_count": null,
   "id": "2aaa79c8",
   "metadata": {},
   "outputs": [],
   "source": [
    "\"\"\"\n",
    "Checks in anagram_validation() go from fastest to slowest, to filter out non-anagrams as quick as possible.\n",
    "It creates some redundancy, but on common data sets it can improve the speed.\n",
    "In special conditions like all the word are the same length and/or contain a small limited character set\n",
    "it will be better to ommit those fast checks to accelerate the function.\n",
    "\"\"\""
   ]
  },
  {
   "cell_type": "code",
   "execution_count": 15,
   "id": "657f2825",
   "metadata": {},
   "outputs": [
    {
     "name": "stdout",
     "output_type": "stream",
     "text": [
      "Word length is different: tulip has 5 letters and pitbull has 7 letters\n"
     ]
    },
    {
     "data": {
      "text/plain": [
       "False"
      ]
     },
     "execution_count": 15,
     "metadata": {},
     "output_type": "execute_result"
    }
   ],
   "source": [
    "anagram_validation('tulip','pitbull')"
   ]
  },
  {
   "cell_type": "code",
   "execution_count": 16,
   "id": "a385bd01",
   "metadata": {},
   "outputs": [
    {
     "name": "stdout",
     "output_type": "stream",
     "text": [
      "Words have difference at least in one letter or more\n"
     ]
    },
    {
     "data": {
      "text/plain": [
       "False"
      ]
     },
     "execution_count": 16,
     "metadata": {},
     "output_type": "execute_result"
    }
   ],
   "source": [
    "anagram_validation('tulip','pilot')"
   ]
  },
  {
   "cell_type": "code",
   "execution_count": 17,
   "id": "6ec78b1d",
   "metadata": {},
   "outputs": [
    {
     "name": "stdout",
     "output_type": "stream",
     "text": [
      "Words have different amount of repeating letters\n"
     ]
    },
    {
     "data": {
      "text/plain": [
       "False"
      ]
     },
     "execution_count": 17,
     "metadata": {},
     "output_type": "execute_result"
    }
   ],
   "source": [
    "anagram_validation('pupil', 'pilot')"
   ]
  },
  {
   "cell_type": "code",
   "execution_count": 19,
   "id": "31106650",
   "metadata": {},
   "outputs": [
    {
     "name": "stdout",
     "output_type": "stream",
     "text": [
      "Given words are anagrams\n"
     ]
    },
    {
     "data": {
      "text/plain": [
       "True"
      ]
     },
     "execution_count": 19,
     "metadata": {},
     "output_type": "execute_result"
    }
   ],
   "source": [
    "anagram_validation('odor', 'door')"
   ]
  },
  {
   "cell_type": "code",
   "execution_count": 20,
   "id": "e210e1d0",
   "metadata": {},
   "outputs": [
    {
     "name": "stdout",
     "output_type": "stream",
     "text": [
      "Words have different count of letter \"b\" in them\n"
     ]
    },
    {
     "data": {
      "text/plain": [
       "False"
      ]
     },
     "execution_count": 20,
     "metadata": {},
     "output_type": "execute_result"
    }
   ],
   "source": [
    "anagram_validation('bull', 'bulb')"
   ]
  }
 ],
 "metadata": {
  "kernelspec": {
   "display_name": "Python 3 (ipykernel)",
   "language": "python",
   "name": "python3"
  },
  "language_info": {
   "codemirror_mode": {
    "name": "ipython",
    "version": 3
   },
   "file_extension": ".py",
   "mimetype": "text/x-python",
   "name": "python",
   "nbconvert_exporter": "python",
   "pygments_lexer": "ipython3",
   "version": "3.9.7"
  }
 },
 "nbformat": 4,
 "nbformat_minor": 5
}
