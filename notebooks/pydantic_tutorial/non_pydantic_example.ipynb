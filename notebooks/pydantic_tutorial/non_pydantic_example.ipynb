{
 "cells": [
  {
   "cell_type": "code",
   "execution_count": 1,
   "id": "2649bd59",
   "metadata": {},
   "outputs": [],
   "source": [
    "import json\n",
    "from pathlib import Path\n",
    "from typing import Any, Mapping\n",
    "\n",
    "import numpy as np"
   ]
  },
  {
   "cell_type": "code",
   "execution_count": 2,
   "id": "12922dec",
   "metadata": {},
   "outputs": [
    {
     "name": "stdout",
     "output_type": "stream",
     "text": [
      "1: -9007199254740980.00 EUR\n",
      "2: 0.00 EUR\n",
      "3: 0.00 EUR\n",
      "4: 4503599627370490.00 EUR\n"
     ]
    }
   ],
   "source": [
    "def main(filepath: Path):\n",
    "    people = get_people(filepath)\n",
    "    friends_difference = get_account_difference(people)\n",
    "    for person_id, diff in friends_difference.items():\n",
    "        print(f\"{person_id}: {diff:0.2f} EUR\")\n",
    "\n",
    "\n",
    "def get_account_difference(\n",
    "    people: Mapping[str, Mapping[str, Any]]\n",
    ") -> Mapping[int, float]:\n",
    "    result = {}\n",
    "    for person in people.values():\n",
    "        if person[\"friends\"] is not None:\n",
    "            friends_account = [\n",
    "                people[friend][\"bank_account\"] for friend in person[\"friends\"]\n",
    "            ]\n",
    "            median = np.median(friends_account)\n",
    "        else:\n",
    "            median = None\n",
    "\n",
    "        if median is None:\n",
    "            result[person[\"id\"]] = 0\n",
    "        else:\n",
    "            result[person[\"id\"]] = person[\"bank_account\"] - median\n",
    "    return result\n",
    "\n",
    "\n",
    "def get_people(filepath: Path) -> Mapping[str, Mapping[str, Any]]:\n",
    "    with open(filepath) as fp:\n",
    "        people = json.loads(fp.read())\n",
    "    id2person = {}\n",
    "    for person in people:\n",
    "        id2person[person[\"id\"]] = person\n",
    "    return id2person\n",
    "\n",
    "\n",
    "if __name__ == \"__main__\":\n",
    "    main(Path(\"people.json\"))"
   ]
  },
  {
   "cell_type": "code",
   "execution_count": 6,
   "id": "5433b69a",
   "metadata": {},
   "outputs": [
    {
     "name": "stdout",
     "output_type": "stream",
     "text": [
      "[{'id': 1, 'name': 'Anna', 'friends': [2, 3, 4], 'birthdate': '1992-01-15', 'bank_account': 12.3}, {'id': 2, 'name': 'Bob', 'friends': None, 'birthdate': '1962-12-31', 'bank_account': 0.1}, {'id': 3, 'name': 'Charlie', 'friends': [4], 'birthdate': '1992-02-28', 'bank_account': 9007199254740992.0}, {'id': 4, 'name': 'Martin', 'friends': [1, 3], 'birthdate': '1990-04-28', 'bank_account': 9007199254740993}]\n"
     ]
    },
    {
     "data": {
      "text/plain": [
       "{1: {'id': 1,\n",
       "  'name': 'Anna',\n",
       "  'friends': [2, 3, 4],\n",
       "  'birthdate': '1992-01-15',\n",
       "  'bank_account': 12.3},\n",
       " 2: {'id': 2,\n",
       "  'name': 'Bob',\n",
       "  'friends': None,\n",
       "  'birthdate': '1962-12-31',\n",
       "  'bank_account': 0.1},\n",
       " 3: {'id': 3,\n",
       "  'name': 'Charlie',\n",
       "  'friends': [4],\n",
       "  'birthdate': '1992-02-28',\n",
       "  'bank_account': 9007199254740992.0},\n",
       " 4: {'id': 4,\n",
       "  'name': 'Martin',\n",
       "  'friends': [1, 3],\n",
       "  'birthdate': '1990-04-28',\n",
       "  'bank_account': 9007199254740993}}"
      ]
     },
     "execution_count": 6,
     "metadata": {},
     "output_type": "execute_result"
    }
   ],
   "source": [
    "def get_people(filepath: Path) -> Mapping[str, Mapping[str, Any]]:\n",
    "    with open(filepath) as fp:\n",
    "        people = json.loads(fp.read())\n",
    "    print(people)\n",
    "    id2person = {}\n",
    "    for person in people:\n",
    "        id2person[person[\"id\"]] = person\n",
    "    return id2person\n",
    "\n",
    "get_people('people.json')"
   ]
  },
  {
   "cell_type": "code",
   "execution_count": 7,
   "id": "a1f74862",
   "metadata": {},
   "outputs": [],
   "source": []
  },
  {
   "cell_type": "code",
   "execution_count": 8,
   "id": "3dee0ca5",
   "metadata": {},
   "outputs": [],
   "source": []
  },
  {
   "cell_type": "code",
   "execution_count": 9,
   "id": "d85b5224",
   "metadata": {},
   "outputs": [],
   "source": []
  },
  {
   "cell_type": "code",
   "execution_count": 10,
   "id": "0e630935",
   "metadata": {},
   "outputs": [],
   "source": []
  },
  {
   "cell_type": "code",
   "execution_count": null,
   "id": "0a2eb22d",
   "metadata": {},
   "outputs": [],
   "source": []
  },
  {
   "cell_type": "code",
   "execution_count": null,
   "id": "73663151",
   "metadata": {},
   "outputs": [],
   "source": []
  },
  {
   "cell_type": "code",
   "execution_count": null,
   "id": "532230ce",
   "metadata": {},
   "outputs": [],
   "source": []
  },
  {
   "cell_type": "code",
   "execution_count": null,
   "id": "22c5df6b",
   "metadata": {},
   "outputs": [],
   "source": []
  },
  {
   "cell_type": "code",
   "execution_count": null,
   "id": "d051170e",
   "metadata": {},
   "outputs": [],
   "source": []
  }
 ],
 "metadata": {
  "kernelspec": {
   "display_name": "Python 3 (ipykernel)",
   "language": "python",
   "name": "python3"
  },
  "language_info": {
   "codemirror_mode": {
    "name": "ipython",
    "version": 3
   },
   "file_extension": ".py",
   "mimetype": "text/x-python",
   "name": "python",
   "nbconvert_exporter": "python",
   "pygments_lexer": "ipython3",
   "version": "3.9.5"
  }
 },
 "nbformat": 4,
 "nbformat_minor": 5
}
